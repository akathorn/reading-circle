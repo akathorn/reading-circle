{
 "cells": [
  {
   "cell_type": "code",
   "execution_count": 1,
   "source": [
    "import time\n",
    "import random\n",
    "import timeit\n",
    "import statistics\n",
    "import itertools\n",
    "\n",
    "import matplotlib.pyplot as plt\n",
    "import pandas as pd\n",
    "\n",
    "from memory_profiler import memory_usage"
   ],
   "outputs": [],
   "metadata": {}
  },
  {
   "cell_type": "code",
   "execution_count": 64,
   "source": [
    "plt.rcParams['figure.figsize'] = (20, 10)\n",
    "\n",
    "%load_ext autoreload\n",
    "%autoreload 2"
   ],
   "outputs": [
    {
     "output_type": "stream",
     "name": "stdout",
     "text": [
      "The autoreload extension is already loaded. To reload it, use:\n",
      "  %reload_ext autoreload\n"
     ]
    }
   ],
   "metadata": {}
  },
  {
   "cell_type": "code",
   "execution_count": 59,
   "source": [
    "import benchmarks"
   ],
   "outputs": [],
   "metadata": {}
  },
  {
   "cell_type": "code",
   "execution_count": 62,
   "source": [
    "%memit benchmarks.benchmark1()"
   ],
   "outputs": [
    {
     "output_type": "stream",
     "name": "stdout",
     "text": [
      "peak memory: 142.65 MiB, increment: 0.00 MiB\n"
     ]
    }
   ],
   "metadata": {}
  },
  {
   "cell_type": "code",
   "execution_count": 63,
   "source": [
    "%memit benchmarks.benchmark1b()"
   ],
   "outputs": [
    {
     "output_type": "stream",
     "name": "stdout",
     "text": [
      "peak memory: 142.65 MiB, increment: 0.00 MiB\n"
     ]
    }
   ],
   "metadata": {}
  },
  {
   "cell_type": "code",
   "execution_count": 49,
   "source": [
    "# Placeholders\n",
    "\n",
    "class placeholder:\n",
    "    @staticmethod\n",
    "    def product(*iterables, repeat=1):\n",
    "        return iter([1]) #itertools.product(*iterables, repeat=1)\n",
    "\n",
    "    @staticmethod\n",
    "    def permutations(iterable, r=None):\n",
    "        return iter([1]) # itertools.permutations(iterable, r)\n",
    "\n",
    "    @staticmethod\n",
    "    def combinations(iterable, r):\n",
    "        return iter([1]) # itertools.combinations(iterable, r)\n",
    "\n",
    "class stdlib(placeholder):\n",
    "    ...\n",
    "\n",
    "class carlos(placeholder):\n",
    "    @staticmethod\n",
    "    def combinations(iterable, r):\n",
    "        a = [\"hello\"] * 1000\n",
    "        return iter([a]) # itertools.combinations(iterable, r)\n",
    "\n",
    "class daniel(placeholder):\n",
    "    @staticmethod\n",
    "    def combinations(iterable, r):\n",
    "        a = [\"hello\"] * 100000\n",
    "        return iter([a]) # itertools.combinations(iterable, r)\n"
   ],
   "outputs": [],
   "metadata": {}
  },
  {
   "cell_type": "code",
   "execution_count": 4,
   "source": [
    "%timeit"
   ],
   "outputs": [],
   "metadata": {}
  },
  {
   "cell_type": "code",
   "execution_count": 54,
   "source": [
    "%load_ext memory_profiler"
   ],
   "outputs": [],
   "metadata": {}
  },
  {
   "cell_type": "code",
   "execution_count": 85,
   "source": [
    "%memit pass"
   ],
   "outputs": [
    {
     "output_type": "stream",
     "name": "stdout",
     "text": [
      "peak memory: 7737.04 MiB, increment: 0.05 MiB\n"
     ]
    }
   ],
   "metadata": {}
  },
  {
   "cell_type": "code",
   "execution_count": 5,
   "source": [
    "def time_benchmarks(benchmarks, modules, function, runs):\n",
    "    times = []\n",
    "    for benchmark in benchmarks:\n",
    "        print(f\"Running benchmark [{benchmark.__doc__}]\")\n",
    "        benchmark_times = [benchmark.__doc__]\n",
    "        for module in modules:\n",
    "            print(f\"-- Running benchmarks for {module.__name__} \", end=\"\")\n",
    "            func_times = []\n",
    "            for _ in range(runs):\n",
    "                print(\".\", end=\"\")\n",
    "                l = lambda: timeit.timeit(benchmark(getattr(module, function)), number=1)\n",
    "                func_times.append(l())\n",
    "            print()\n",
    "            benchmark_times.append(statistics.median(func_times))\n",
    "        times.append(benchmark_times)\n",
    "    return times"
   ],
   "outputs": [],
   "metadata": {}
  },
  {
   "cell_type": "code",
   "execution_count": 6,
   "source": [
    "def memory_benchmarks(benchmarks, modules, function):\n",
    "    print(\"\\nRunning memory benchmarks...\")\n",
    "    memory = []\n",
    "    for benchmark in benchmarks:\n",
    "        print(f\"Running benchmark [{benchmark.__doc__}]\")\n",
    "        benchmark_mem = []\n",
    "        for module in modules:\n",
    "            print(f\"-- Running benchmarks for {module.__name__} \", end=\"\")\n",
    "            # func_mem = memory_usage(benchmark(getattr(module, function)))\n",
    "            def f():\n",
    "                for _ in range(25):\n",
    "                    benchmark(getattr(module, function))()\n",
    "                    print(\".\", end=\"\")\n",
    "                print()\n",
    "            # func_mem = memory_usage(f)\n",
    "            f()\n",
    "            func_mem = [0]\n",
    "            # print(func_mem)\n",
    "            benchmark_mem.append(max(func_mem))\n",
    "            # print()\n",
    "        mem_diff_kib = [(m - min(benchmark_mem)) * 1024 for m in benchmark_mem]\n",
    "        print(benchmark_mem)\n",
    "        print(mem_diff_kib)\n",
    "        memory.append([benchmark.__doc__] + mem_diff_kib)\n",
    "    return memory"
   ],
   "outputs": [],
   "metadata": {}
  },
  {
   "cell_type": "code",
   "execution_count": 124,
   "source": [
    "%memit benchmark1(daniel.combinations)()"
   ],
   "outputs": [
    {
     "output_type": "stream",
     "name": "stdout",
     "text": [
      "peak memory: 9679.78 MiB, increment: 431.91 MiB\n"
     ]
    }
   ],
   "metadata": {}
  },
  {
   "cell_type": "code",
   "execution_count": 122,
   "source": [
    "%memit benchmark1(carlos.combinations)()"
   ],
   "outputs": [
    {
     "output_type": "stream",
     "name": "stdout",
     "text": [
      "peak memory: 9248.51 MiB, increment: 0.93 MiB\n"
     ]
    }
   ],
   "metadata": {}
  },
  {
   "cell_type": "code",
   "execution_count": 47,
   "source": [
    "def plot(times, memory, modules, function):\n",
    "    fig, axs = plt.subplots(2, 1)\n",
    "\n",
    "    module_names = [m.__name__ for m in modules]\n",
    "    columns = [\"Benchmark\"] + module_names\n",
    "    df = pd.DataFrame(list(reversed(times)), columns=columns)\n",
    "    df.plot(x=\"Benchmark\", y=module_names, kind=\"barh\", ax=axs[0])\n",
    "    axs[0].set_title(f\"{function.capitalize()} (time)\", size=20)\n",
    "    axs[0].set_xlabel(\"time\")\n",
    "    axs[0].set_ylabel(\"\")\n",
    "    axs[0].grid()\n",
    "\n",
    "    # df = pd.DataFrame(list(reversed(memory)), columns=columns)\n",
    "    # df.plot(x=\"Benchmark\", y=module_names, kind=\"barh\", ax=axs[1])\n",
    "    # axs[1].set_title(f\"{function.capitalize()} (memory)\", size=20)\n",
    "    # axs[1].set_xlabel(\"difference in max memory usage (KiB)\")\n",
    "    # axs[1].set_ylabel(\"\")\n",
    "    # axs[1].set_xlim(left=0)\n",
    "    # axs[1].grid()\n",
    "\n",
    "    plt.show()"
   ],
   "outputs": [],
   "metadata": {}
  },
  {
   "cell_type": "markdown",
   "source": [
    "# Combinations"
   ],
   "metadata": {}
  },
  {
   "cell_type": "code",
   "execution_count": 9,
   "source": [
    "def benchmark1(combinations):\n",
    "    \"\"\"3 elements, length 2\"\"\"\n",
    "    def f():\n",
    "        _ = list(combinations(\"abc\", 2))\n",
    "    return f\n",
    "\n",
    "def benchmark2(combinations):\n",
    "    \"\"\"100 elements, length 3\"\"\"\n",
    "    def f():\n",
    "        _ = list(combinations(range(100), 3))\n",
    "    return f\n",
    "\n",
    "def benchmark3(combinations):\n",
    "    \"\"\"first of 10000 elements, length 5\"\"\"\n",
    "    def f():\n",
    "        _ = next(combinations(range(10000), 5))\n",
    "    return f"
   ],
   "outputs": [],
   "metadata": {}
  },
  {
   "cell_type": "code",
   "execution_count": 28,
   "source": [
    "runs = 100\n",
    "\n",
    "benchmarks = [\n",
    "    benchmark1,\n",
    "    benchmark2,\n",
    "    benchmark3,\n",
    "]\n",
    "\n",
    "modules = [stdlib, carlos, daniel]"
   ],
   "outputs": [],
   "metadata": {}
  },
  {
   "cell_type": "code",
   "execution_count": 20,
   "source": [
    "times = time_benchmarks(benchmarks, modules, \"combinations\", runs)"
   ],
   "outputs": [
    {
     "output_type": "stream",
     "name": "stdout",
     "text": [
      "Running benchmark [3 elements, length 2]\n",
      "-- Running benchmarks for stdlib ....................................................................................................\n",
      "-- Running benchmarks for carlos ....................................................................................................\n",
      "-- Running benchmarks for daniel ....................................................................................................\n",
      "Running benchmark [100 elements, length 3]\n",
      "-- Running benchmarks for stdlib ....................................................................................................\n",
      "-- Running benchmarks for carlos ....................................................................................................\n",
      "-- Running benchmarks for daniel ....................................................................................................\n",
      "Running benchmark [first of 10000 elements, length 5]\n",
      "-- Running benchmarks for stdlib ....................................................................................................\n",
      "-- Running benchmarks for carlos ....................................................................................................\n",
      "-- Running benchmarks for daniel ....................................................................................................\n"
     ]
    }
   ],
   "metadata": {}
  },
  {
   "cell_type": "code",
   "execution_count": 21,
   "source": [
    "memory = [] # memory_benchmarks([benchmark1], modules, \"combinations\")"
   ],
   "outputs": [],
   "metadata": {}
  },
  {
   "cell_type": "code",
   "execution_count": 46,
   "source": [
    "plot(times, memory, modules, \"combinations\")"
   ],
   "outputs": [
    {
     "output_type": "display_data",
     "data": {
      "image/png": "[encoded data removed]",
      "text/plain": [
       "<Figure size 1440x720 with 2 Axes>"
      ]
     },
     "metadata": {
      "needs_background": "light"
     }
    }
   ],
   "metadata": {}
  },
  {
   "cell_type": "markdown",
   "source": [
    "# Permutations"
   ],
   "metadata": {}
  },
  {
   "cell_type": "code",
   "execution_count": 29,
   "source": [
    "def benchmark1(permutations):\n",
    "    \"\"\"3 elements, length 2\"\"\"\n",
    "    def f():\n",
    "        _ = list(permutations(\"abc\", 2))\n",
    "    return f\n",
    "\n",
    "def benchmark2(permutations):\n",
    "    \"\"\"100 elements, length 3\"\"\"\n",
    "    def f():\n",
    "        _ = list(permutations(range(100), 3))\n",
    "    return f\n",
    "\n",
    "def benchmark3(permutations):\n",
    "    \"\"\"first of 10000 elements, length 5\"\"\"\n",
    "    def f():\n",
    "        _ = next(permutations(range(10000), 5))\n",
    "    return f"
   ],
   "outputs": [],
   "metadata": {}
  },
  {
   "cell_type": "code",
   "execution_count": 33,
   "source": [
    "runs = 100\n",
    "\n",
    "benchmarks = [\n",
    "    benchmark1,\n",
    "    benchmark2,\n",
    "    benchmark3,\n",
    "]\n",
    "\n",
    "modules = [stdlib, carlos, daniel]"
   ],
   "outputs": [],
   "metadata": {}
  },
  {
   "cell_type": "code",
   "execution_count": 34,
   "source": [
    "times = time_benchmarks(benchmarks, modules, \"permutations\", runs)"
   ],
   "outputs": [
    {
     "output_type": "stream",
     "name": "stdout",
     "text": [
      "Running benchmark [3 elements, length 2]\n",
      "-- Running benchmarks for stdlib ....................................................................................................\n",
      "-- Running benchmarks for carlos ....................................................................................................\n",
      "-- Running benchmarks for daniel ....................................................................................................\n",
      "Running benchmark [100 elements, length 3]\n",
      "-- Running benchmarks for stdlib ....................................................................................................\n",
      "-- Running benchmarks for carlos ....................................................................................................\n",
      "-- Running benchmarks for daniel ....................................................................................................\n",
      "Running benchmark [first of 10000 elements, length 5]\n",
      "-- Running benchmarks for stdlib ....................................................................................................\n",
      "-- Running benchmarks for carlos ....................................................................................................\n",
      "-- Running benchmarks for daniel ....................................................................................................\n"
     ]
    }
   ],
   "metadata": {}
  },
  {
   "cell_type": "code",
   "execution_count": 35,
   "source": [
    "plot(times, memory, modules, \"permutations\")"
   ],
   "outputs": [
    {
     "output_type": "display_data",
     "data": {
      "image/png": "[encoded data removed]",
      "text/plain": [
       "<Figure size 1440x720 with 2 Axes>"
      ]
     },
     "metadata": {
      "needs_background": "light"
     }
    }
   ],
   "metadata": {}
  },
  {
   "cell_type": "markdown",
   "source": [
    "# Product"
   ],
   "metadata": {}
  },
  {
   "cell_type": "code",
   "execution_count": 40,
   "source": [
    "def benchmark1(product):\n",
    "    \"\"\"product of 2 iterables\"\"\"\n",
    "    def f():\n",
    "        _ = list(product([1, 2], \"ab\"))\n",
    "    return f\n",
    "\n",
    "def benchmark2(product):\n",
    "    \"\"\"product of 4 iterables\"\"\"\n",
    "    def f():\n",
    "        _ = list(product([1, 2], [\"a\", \"b\"], [True, False], [None, None, None]))\n",
    "    return f\n",
    "\n",
    "def benchmark3(product):\n",
    "    \"\"\"2 iterables with repeat=4\"\"\"\n",
    "    def f():\n",
    "        _ = list(product(\"ab\", \"cd\", repeat=4))\n",
    "    return f\n",
    "\n",
    "def benchmark4(product):\n",
    "    \"\"\"product of 2 big iterables\"\"\"\n",
    "    def f():\n",
    "        _ = list(product(range(10000), range(1000)))\n",
    "    return f\n",
    "\n",
    "def benchmark5(product):\n",
    "    \"\"\"First 100 elements of very big iterables\"\"\"\n",
    "    def f():\n",
    "        for _ in range(100):\n",
    "            next(product(range(1000000000), range(1000000000)))\n",
    "    return f\n"
   ],
   "outputs": [],
   "metadata": {}
  },
  {
   "cell_type": "code",
   "execution_count": 41,
   "source": [
    "runs = 100\n",
    "\n",
    "benchmarks = [\n",
    "    benchmark1,\n",
    "    benchmark2,\n",
    "    benchmark3,\n",
    "    benchmark4,\n",
    "    benchmark5,\n",
    "]\n",
    "\n",
    "modules = [stdlib, carlos, daniel]"
   ],
   "outputs": [],
   "metadata": {}
  },
  {
   "cell_type": "code",
   "execution_count": 42,
   "source": [
    "times = time_benchmarks(benchmarks, modules, \"product\", runs)"
   ],
   "outputs": [
    {
     "output_type": "stream",
     "name": "stdout",
     "text": [
      "Running benchmark [product of 2 iterables]\n",
      "-- Running benchmarks for stdlib ....................................................................................................\n",
      "-- Running benchmarks for carlos ....................................................................................................\n",
      "-- Running benchmarks for daniel ....................................................................................................\n",
      "Running benchmark [product of 4 iterables]\n",
      "-- Running benchmarks for stdlib ....................................................................................................\n",
      "-- Running benchmarks for carlos ....................................................................................................\n",
      "-- Running benchmarks for daniel ....................................................................................................\n",
      "Running benchmark [2 iterables with repeat=4]\n",
      "-- Running benchmarks for stdlib ....................................................................................................\n",
      "-- Running benchmarks for carlos ....................................................................................................\n",
      "-- Running benchmarks for daniel ....................................................................................................\n",
      "Running benchmark [product of 2 big iterables]\n",
      "-- Running benchmarks for stdlib ....................................................................................................\n",
      "-- Running benchmarks for carlos ....................................................................................................\n",
      "-- Running benchmarks for daniel ....................................................................................................\n",
      "Running benchmark [First 100 elements of very big iterables]\n",
      "-- Running benchmarks for stdlib ....................................................................................................\n",
      "-- Running benchmarks for carlos ....................................................................................................\n",
      "-- Running benchmarks for daniel ....................................................................................................\n"
     ]
    }
   ],
   "metadata": {}
  },
  {
   "cell_type": "code",
   "execution_count": 48,
   "source": [
    "plot(times, memory, modules, \"product\")"
   ],
   "outputs": [
    {
     "output_type": "display_data",
     "data": {
      "image/png": "[encoded data removed]",
      "text/plain": [
       "<Figure size 1440x720 with 2 Axes>"
      ]
     },
     "metadata": {
      "needs_background": "light"
     }
    }
   ],
   "metadata": {}
  }
 ],
 "metadata": {
  "orig_nbformat": 4,
  "language_info": {
   "name": "python",
   "version": "3.9.5",
   "mimetype": "text/x-python",
   "codemirror_mode": {
    "name": "ipython",
    "version": 3
   },
   "pygments_lexer": "ipython3",
   "nbconvert_exporter": "python",
   "file_extension": ".py"
  },
  "kernelspec": {
   "name": "python3",
   "display_name": "Python 3.9.5 64-bit ('reading_circle-o-Iznxhd': venv)"
  },
  "interpreter": {
   "hash": "1a86893f0774b6df1cf4ef52447ef198de8e3d0117f7fd2dddd3ddbf705dac15"
  }
 },
 "nbformat": 4,
 "nbformat_minor": 2
}