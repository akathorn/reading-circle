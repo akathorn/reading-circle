{
 "cells": [
  {
   "cell_type": "markdown",
   "source": [
    "# Itertools benchmarks"
   ],
   "metadata": {}
  },
  {
   "cell_type": "markdown",
   "source": [
    "## Imports and configuration"
   ],
   "metadata": {}
  },
  {
   "cell_type": "code",
   "execution_count": 1,
   "source": [
    "import time\n",
    "import random\n",
    "import timeit\n",
    "import statistics\n",
    "import itertools\n",
    "import functools\n",
    "\n",
    "import matplotlib.pyplot as plt\n",
    "import pandas as pd\n",
    "\n",
    "from memory_profiler import memory_usage\n",
    "from timeout_decorator import timeout, TimeoutError"
   ],
   "outputs": [],
   "metadata": {}
  },
  {
   "cell_type": "code",
   "execution_count": 2,
   "source": [
    "plt.rcParams['figure.figsize'] = (20, 10)\n",
    "\n",
    "%load_ext autoreload\n",
    "%autoreload 2"
   ],
   "outputs": [],
   "metadata": {}
  },
  {
   "cell_type": "markdown",
   "source": [
    "## Loading modules"
   ],
   "metadata": {}
  },
  {
   "cell_type": "markdown",
   "source": [
    "### Placeholders"
   ],
   "metadata": {}
  },
  {
   "cell_type": "code",
   "execution_count": 3,
   "source": [
    "# Placeholders\n",
    "\n",
    "class placeholder:\n",
    "    @staticmethod\n",
    "    def product(*iterables, repeat=1):\n",
    "        return iter([1]) #itertools.product(*iterables, repeat=1)\n",
    "\n",
    "    @staticmethod\n",
    "    def permutations(iterable, r=None):\n",
    "        return iter([1]) # itertools.permutations(iterable, r)\n",
    "\n",
    "    @staticmethod\n",
    "    def combinations(iterable, r):\n",
    "        return iter([1]) # itertools.combinations(iterable, r)\n",
    "\n",
    "class stdlib(placeholder):\n",
    "    ...\n",
    "\n",
    "class carlos(placeholder):\n",
    "    @staticmethod\n",
    "    def combinations(iterable, r):\n",
    "        a = [\"hello\"] * 1000\n",
    "        return iter([a]) # itertools.combinations(iterable, r)\n",
    "\n",
    "class daniel(placeholder):\n",
    "    @staticmethod\n",
    "    def combinations(iterable, r):\n",
    "        a = [\"hello\"] * 100000\n",
    "        return iter([a]) # itertools.combinations(iterable, r)\n"
   ],
   "outputs": [],
   "metadata": {}
  },
  {
   "cell_type": "code",
   "execution_count": 4,
   "source": [
    "import mitertools as daniel\n",
    "import mitertools_rec as daniel_rec\n",
    "import itertools as stdlib\n",
    "import carlos\n",
    "import carlos_rec"
   ],
   "outputs": [],
   "metadata": {}
  },
  {
   "cell_type": "code",
   "execution_count": 5,
   "source": [
    "all_modules = stdlib, carlos, daniel, carlos_rec, daniel_rec"
   ],
   "outputs": [],
   "metadata": {}
  },
  {
   "cell_type": "markdown",
   "source": [
    "## Helper functions"
   ],
   "metadata": {}
  },
  {
   "cell_type": "code",
   "execution_count": 6,
   "source": [
    "def benchmark(bench):\n",
    "    @functools.wraps(bench)\n",
    "    def benchmark_wrapper(function):\n",
    "        @timeout(5)\n",
    "        def wrapped():\n",
    "            return bench(function)\n",
    "        return wrapped\n",
    "    return benchmark_wrapper"
   ],
   "outputs": [],
   "metadata": {}
  },
  {
   "cell_type": "code",
   "execution_count": 7,
   "source": [
    "def time_benchmarks(benchmarks, modules, function, runs):\n",
    "    times = []\n",
    "    for benchmark in benchmarks:\n",
    "        print(f\"Running benchmark [{benchmark.__doc__}]\")\n",
    "        benchmark_times = []\n",
    "        for module in modules:\n",
    "            print(f\"-- Running benchmarks for {module.__name__} \", end=\"\")\n",
    "            func_times = [0]\n",
    "            try:\n",
    "                for _ in range(runs):\n",
    "                    l = lambda: timeit.timeit(benchmark(getattr(module, function)), number=10)\n",
    "                    func_times.append(l())\n",
    "                    print(\".\", end=\"\")\n",
    "                print()\n",
    "            except TimeoutError:\n",
    "                print(\"TIMEOUT!\")\n",
    "                func_times = [0]\n",
    "            except Exception as err:\n",
    "                print(err)\n",
    "            benchmark_times.append(statistics.median(func_times))\n",
    "        times.append([benchmark.__doc__] + [t/max(benchmark_times) for t in benchmark_times])\n",
    "    return times"
   ],
   "outputs": [],
   "metadata": {}
  },
  {
   "cell_type": "code",
   "execution_count": 8,
   "source": [
    "# def memory_benchmarks(benchmarks, modules, function):\n",
    "#     print(\"\\nRunning memory benchmarks...\")\n",
    "#     memory = []\n",
    "#     for benchmark in benchmarks:\n",
    "#         print(f\"Running benchmark [{benchmark.__doc__}]\")\n",
    "#         benchmark_mem = []\n",
    "#         for module in modules:\n",
    "#             print(f\"-- Running benchmarks for {module.__name__} \", end=\"\")\n",
    "#             # func_mem = memory_usage(benchmark(getattr(module, function)))\n",
    "#             def f():\n",
    "#                 for _ in range(25):\n",
    "#                     benchmark(getattr(module, function))()\n",
    "#                     print(\".\", end=\"\")\n",
    "#                 print()\n",
    "#             # func_mem = memory_usage(f)\n",
    "#             f()\n",
    "#             func_mem = [0]\n",
    "#             # print(func_mem)\n",
    "#             benchmark_mem.append(max(func_mem))\n",
    "#             # print()\n",
    "#         mem_diff_kib = [(m - min(benchmark_mem)) * 1024 for m in benchmark_mem]\n",
    "#         print(benchmark_mem)\n",
    "#         print(mem_diff_kib)\n",
    "#         memory.append([benchmark.__doc__] + mem_diff_kib)\n",
    "#     return memory"
   ],
   "outputs": [],
   "metadata": {}
  },
  {
   "cell_type": "code",
   "execution_count": 9,
   "source": [
    "def plot(times, memory, modules, function):\n",
    "    fig, axs = plt.subplots(1, 1)\n",
    "\n",
    "    axs_time = axs\n",
    "\n",
    "    module_names = [m.__name__ for m in modules]\n",
    "    columns = [\"Benchmark\"] + module_names\n",
    "    df = pd.DataFrame(list(reversed(times)), columns=columns)\n",
    "    df.plot(x=\"Benchmark\", y=module_names, kind=\"barh\", ax=axs_time)\n",
    "    axs_time.set_title(f\"{function.capitalize()} (time)\", size=20)\n",
    "    axs_time.set_xlabel(\"time\")\n",
    "    axs_time.set_ylabel(\"\")\n",
    "    axs_time.grid()\n",
    "\n",
    "    # df = pd.DataFrame(list(reversed(memory)), columns=columns)\n",
    "    # df.plot(x=\"Benchmark\", y=module_names, kind=\"barh\", ax=axs[1])\n",
    "    # axs[1].set_title(f\"{function.capitalize()} (memory)\", size=20)\n",
    "    # axs[1].set_xlabel(\"difference in max memory usage (KiB)\")\n",
    "    # axs[1].set_ylabel(\"\")\n",
    "    # axs[1].set_xlim(left=0)\n",
    "    # axs[1].grid()\n",
    "\n",
    "    plt.show()"
   ],
   "outputs": [],
   "metadata": {}
  },
  {
   "cell_type": "markdown",
   "source": [
    "# Combinations"
   ],
   "metadata": {}
  },
  {
   "cell_type": "code",
   "execution_count": 36,
   "source": [
    "@benchmark\n",
    "def combinations1(combinations):\n",
    "    \"\"\"3 elements, length 2\"\"\"\n",
    "    _ = list(combinations(\"abc\", 2))\n",
    "\n",
    "@benchmark\n",
    "def combinations2(combinations):\n",
    "    \"\"\"100 elements, length 3\"\"\"\n",
    "    # _ = list(combinations(range(100), 3))\n",
    "    _ = list(combinations(\"a\" * 100, 3))\n",
    "    \n",
    "@benchmark\n",
    "def combinations3(combinations):\n",
    "    \"\"\"first of 10000 elements, length 5\"\"\"\n",
    "    _ = next(combinations(range(10000), 5))"
   ],
   "outputs": [],
   "metadata": {}
  },
  {
   "cell_type": "code",
   "execution_count": 40,
   "source": [
    "runs = 2\n",
    "\n",
    "benchmarks = [\n",
    "    # combinations1,\n",
    "    combinations2,\n",
    "    # combinations3,\n",
    "]\n",
    "\n",
    "modules = all_modules"
   ],
   "outputs": [],
   "metadata": {}
  },
  {
   "cell_type": "code",
   "execution_count": 41,
   "source": [
    "\"asd\"[1:2]"
   ],
   "outputs": [
    {
     "output_type": "execute_result",
     "data": {
      "text/plain": [
       "'s'"
      ]
     },
     "metadata": {},
     "execution_count": 41
    }
   ],
   "metadata": {}
  },
  {
   "cell_type": "code",
   "execution_count": 42,
   "source": [
    "times = time_benchmarks(benchmarks, modules, \"combinations\", runs)"
   ],
   "outputs": [
    {
     "output_type": "stream",
     "name": "stdout",
     "text": [
      "Running benchmark [100 elements, length 3]\n",
      "-- Running benchmarks for itertools ..\n",
      "-- Running benchmarks for carlos ."
     ]
    },
    {
     "output_type": "error",
     "ename": "KeyboardInterrupt",
     "evalue": "",
     "traceback": [
      "\u001b[0;31m---------------------------------------------------------------------------\u001b[0m",
      "\u001b[0;31mKeyboardInterrupt\u001b[0m                         Traceback (most recent call last)",
      "\u001b[0;32m/tmp/ipykernel_3621/2552571025.py\u001b[0m in \u001b[0;36m<module>\u001b[0;34m\u001b[0m\n\u001b[0;32m----> 1\u001b[0;31m \u001b[0mtimes\u001b[0m \u001b[0;34m=\u001b[0m \u001b[0mtime_benchmarks\u001b[0m\u001b[0;34m(\u001b[0m\u001b[0mbenchmarks\u001b[0m\u001b[0;34m,\u001b[0m \u001b[0mmodules\u001b[0m\u001b[0;34m,\u001b[0m \u001b[0;34m\"combinations\"\u001b[0m\u001b[0;34m,\u001b[0m \u001b[0mruns\u001b[0m\u001b[0;34m)\u001b[0m\u001b[0;34m\u001b[0m\u001b[0;34m\u001b[0m\u001b[0m\n\u001b[0m",
      "\u001b[0;32m/tmp/ipykernel_3621/3061109090.py\u001b[0m in \u001b[0;36mtime_benchmarks\u001b[0;34m(benchmarks, modules, function, runs)\u001b[0m\n\u001b[1;32m     10\u001b[0m                 \u001b[0;32mfor\u001b[0m \u001b[0m_\u001b[0m \u001b[0;32min\u001b[0m \u001b[0mrange\u001b[0m\u001b[0;34m(\u001b[0m\u001b[0mruns\u001b[0m\u001b[0;34m)\u001b[0m\u001b[0;34m:\u001b[0m\u001b[0;34m\u001b[0m\u001b[0;34m\u001b[0m\u001b[0m\n\u001b[1;32m     11\u001b[0m                     \u001b[0ml\u001b[0m \u001b[0;34m=\u001b[0m \u001b[0;32mlambda\u001b[0m\u001b[0;34m:\u001b[0m \u001b[0mtimeit\u001b[0m\u001b[0;34m.\u001b[0m\u001b[0mtimeit\u001b[0m\u001b[0;34m(\u001b[0m\u001b[0mbenchmark\u001b[0m\u001b[0;34m(\u001b[0m\u001b[0mgetattr\u001b[0m\u001b[0;34m(\u001b[0m\u001b[0mmodule\u001b[0m\u001b[0;34m,\u001b[0m \u001b[0mfunction\u001b[0m\u001b[0;34m)\u001b[0m\u001b[0;34m)\u001b[0m\u001b[0;34m,\u001b[0m \u001b[0mnumber\u001b[0m\u001b[0;34m=\u001b[0m\u001b[0;36m10\u001b[0m\u001b[0;34m)\u001b[0m\u001b[0;34m\u001b[0m\u001b[0;34m\u001b[0m\u001b[0m\n\u001b[0;32m---> 12\u001b[0;31m                     \u001b[0mfunc_times\u001b[0m\u001b[0;34m.\u001b[0m\u001b[0mappend\u001b[0m\u001b[0;34m(\u001b[0m\u001b[0ml\u001b[0m\u001b[0;34m(\u001b[0m\u001b[0;34m)\u001b[0m\u001b[0;34m)\u001b[0m\u001b[0;34m\u001b[0m\u001b[0;34m\u001b[0m\u001b[0m\n\u001b[0m\u001b[1;32m     13\u001b[0m                     \u001b[0mprint\u001b[0m\u001b[0;34m(\u001b[0m\u001b[0;34m\".\"\u001b[0m\u001b[0;34m,\u001b[0m \u001b[0mend\u001b[0m\u001b[0;34m=\u001b[0m\u001b[0;34m\"\"\u001b[0m\u001b[0;34m)\u001b[0m\u001b[0;34m\u001b[0m\u001b[0;34m\u001b[0m\u001b[0m\n\u001b[1;32m     14\u001b[0m                 \u001b[0mprint\u001b[0m\u001b[0;34m(\u001b[0m\u001b[0;34m)\u001b[0m\u001b[0;34m\u001b[0m\u001b[0;34m\u001b[0m\u001b[0m\n",
      "\u001b[0;32m/tmp/ipykernel_3621/3061109090.py\u001b[0m in \u001b[0;36m<lambda>\u001b[0;34m()\u001b[0m\n\u001b[1;32m      9\u001b[0m             \u001b[0;32mtry\u001b[0m\u001b[0;34m:\u001b[0m\u001b[0;34m\u001b[0m\u001b[0;34m\u001b[0m\u001b[0m\n\u001b[1;32m     10\u001b[0m                 \u001b[0;32mfor\u001b[0m \u001b[0m_\u001b[0m \u001b[0;32min\u001b[0m \u001b[0mrange\u001b[0m\u001b[0;34m(\u001b[0m\u001b[0mruns\u001b[0m\u001b[0;34m)\u001b[0m\u001b[0;34m:\u001b[0m\u001b[0;34m\u001b[0m\u001b[0;34m\u001b[0m\u001b[0m\n\u001b[0;32m---> 11\u001b[0;31m                     \u001b[0ml\u001b[0m \u001b[0;34m=\u001b[0m \u001b[0;32mlambda\u001b[0m\u001b[0;34m:\u001b[0m \u001b[0mtimeit\u001b[0m\u001b[0;34m.\u001b[0m\u001b[0mtimeit\u001b[0m\u001b[0;34m(\u001b[0m\u001b[0mbenchmark\u001b[0m\u001b[0;34m(\u001b[0m\u001b[0mgetattr\u001b[0m\u001b[0;34m(\u001b[0m\u001b[0mmodule\u001b[0m\u001b[0;34m,\u001b[0m \u001b[0mfunction\u001b[0m\u001b[0;34m)\u001b[0m\u001b[0;34m)\u001b[0m\u001b[0;34m,\u001b[0m \u001b[0mnumber\u001b[0m\u001b[0;34m=\u001b[0m\u001b[0;36m10\u001b[0m\u001b[0;34m)\u001b[0m\u001b[0;34m\u001b[0m\u001b[0;34m\u001b[0m\u001b[0m\n\u001b[0m\u001b[1;32m     12\u001b[0m                     \u001b[0mfunc_times\u001b[0m\u001b[0;34m.\u001b[0m\u001b[0mappend\u001b[0m\u001b[0;34m(\u001b[0m\u001b[0ml\u001b[0m\u001b[0;34m(\u001b[0m\u001b[0;34m)\u001b[0m\u001b[0;34m)\u001b[0m\u001b[0;34m\u001b[0m\u001b[0;34m\u001b[0m\u001b[0m\n\u001b[1;32m     13\u001b[0m                     \u001b[0mprint\u001b[0m\u001b[0;34m(\u001b[0m\u001b[0;34m\".\"\u001b[0m\u001b[0;34m,\u001b[0m \u001b[0mend\u001b[0m\u001b[0;34m=\u001b[0m\u001b[0;34m\"\"\u001b[0m\u001b[0;34m)\u001b[0m\u001b[0;34m\u001b[0m\u001b[0;34m\u001b[0m\u001b[0m\n",
      "\u001b[0;32m/usr/lib/python3.9/timeit.py\u001b[0m in \u001b[0;36mtimeit\u001b[0;34m(stmt, setup, timer, number, globals)\u001b[0m\n\u001b[1;32m    231\u001b[0m            number=default_number, globals=None):\n\u001b[1;32m    232\u001b[0m     \u001b[0;34m\"\"\"Convenience function to create Timer object and call timeit method.\"\"\"\u001b[0m\u001b[0;34m\u001b[0m\u001b[0;34m\u001b[0m\u001b[0m\n\u001b[0;32m--> 233\u001b[0;31m     \u001b[0;32mreturn\u001b[0m \u001b[0mTimer\u001b[0m\u001b[0;34m(\u001b[0m\u001b[0mstmt\u001b[0m\u001b[0;34m,\u001b[0m \u001b[0msetup\u001b[0m\u001b[0;34m,\u001b[0m \u001b[0mtimer\u001b[0m\u001b[0;34m,\u001b[0m \u001b[0mglobals\u001b[0m\u001b[0;34m)\u001b[0m\u001b[0;34m.\u001b[0m\u001b[0mtimeit\u001b[0m\u001b[0;34m(\u001b[0m\u001b[0mnumber\u001b[0m\u001b[0;34m)\u001b[0m\u001b[0;34m\u001b[0m\u001b[0;34m\u001b[0m\u001b[0m\n\u001b[0m\u001b[1;32m    234\u001b[0m \u001b[0;34m\u001b[0m\u001b[0m\n\u001b[1;32m    235\u001b[0m def repeat(stmt=\"pass\", setup=\"pass\", timer=default_timer,\n",
      "\u001b[0;32m/usr/lib/python3.9/timeit.py\u001b[0m in \u001b[0;36mtimeit\u001b[0;34m(self, number)\u001b[0m\n\u001b[1;32m    175\u001b[0m         \u001b[0mgc\u001b[0m\u001b[0;34m.\u001b[0m\u001b[0mdisable\u001b[0m\u001b[0;34m(\u001b[0m\u001b[0;34m)\u001b[0m\u001b[0;34m\u001b[0m\u001b[0;34m\u001b[0m\u001b[0m\n\u001b[1;32m    176\u001b[0m         \u001b[0;32mtry\u001b[0m\u001b[0;34m:\u001b[0m\u001b[0;34m\u001b[0m\u001b[0;34m\u001b[0m\u001b[0m\n\u001b[0;32m--> 177\u001b[0;31m             \u001b[0mtiming\u001b[0m \u001b[0;34m=\u001b[0m \u001b[0mself\u001b[0m\u001b[0;34m.\u001b[0m\u001b[0minner\u001b[0m\u001b[0;34m(\u001b[0m\u001b[0mit\u001b[0m\u001b[0;34m,\u001b[0m \u001b[0mself\u001b[0m\u001b[0;34m.\u001b[0m\u001b[0mtimer\u001b[0m\u001b[0;34m)\u001b[0m\u001b[0;34m\u001b[0m\u001b[0;34m\u001b[0m\u001b[0m\n\u001b[0m\u001b[1;32m    178\u001b[0m         \u001b[0;32mfinally\u001b[0m\u001b[0;34m:\u001b[0m\u001b[0;34m\u001b[0m\u001b[0;34m\u001b[0m\u001b[0m\n\u001b[1;32m    179\u001b[0m             \u001b[0;32mif\u001b[0m \u001b[0mgcold\u001b[0m\u001b[0;34m:\u001b[0m\u001b[0;34m\u001b[0m\u001b[0;34m\u001b[0m\u001b[0m\n",
      "\u001b[0;32m/usr/lib/python3.9/timeit.py\u001b[0m in \u001b[0;36minner\u001b[0;34m(_it, _timer, _stmt)\u001b[0m\n",
      "\u001b[0;32m~/.local/share/virtualenvs/reading-circle-1-TuAApDv8/lib/python3.9/site-packages/timeout_decorator/timeout_decorator.py\u001b[0m in \u001b[0;36mnew_function\u001b[0;34m(*args, **kwargs)\u001b[0m\n\u001b[1;32m     80\u001b[0m \u001b[0;34m\u001b[0m\u001b[0m\n\u001b[1;32m     81\u001b[0m                 \u001b[0;32mtry\u001b[0m\u001b[0;34m:\u001b[0m\u001b[0;34m\u001b[0m\u001b[0;34m\u001b[0m\u001b[0m\n\u001b[0;32m---> 82\u001b[0;31m                     \u001b[0;32mreturn\u001b[0m \u001b[0mfunction\u001b[0m\u001b[0;34m(\u001b[0m\u001b[0;34m*\u001b[0m\u001b[0margs\u001b[0m\u001b[0;34m,\u001b[0m \u001b[0;34m**\u001b[0m\u001b[0mkwargs\u001b[0m\u001b[0;34m)\u001b[0m\u001b[0;34m\u001b[0m\u001b[0;34m\u001b[0m\u001b[0m\n\u001b[0m\u001b[1;32m     83\u001b[0m                 \u001b[0;32mfinally\u001b[0m\u001b[0;34m:\u001b[0m\u001b[0;34m\u001b[0m\u001b[0;34m\u001b[0m\u001b[0m\n\u001b[1;32m     84\u001b[0m                     \u001b[0;32mif\u001b[0m \u001b[0mnew_seconds\u001b[0m\u001b[0;34m:\u001b[0m\u001b[0;34m\u001b[0m\u001b[0;34m\u001b[0m\u001b[0m\n",
      "\u001b[0;32m/tmp/ipykernel_3621/3608553103.py\u001b[0m in \u001b[0;36mwrapped\u001b[0;34m()\u001b[0m\n\u001b[1;32m      4\u001b[0m         \u001b[0;34m@\u001b[0m\u001b[0mtimeout\u001b[0m\u001b[0;34m(\u001b[0m\u001b[0;36m5\u001b[0m\u001b[0;34m)\u001b[0m\u001b[0;34m\u001b[0m\u001b[0;34m\u001b[0m\u001b[0m\n\u001b[1;32m      5\u001b[0m         \u001b[0;32mdef\u001b[0m \u001b[0mwrapped\u001b[0m\u001b[0;34m(\u001b[0m\u001b[0;34m)\u001b[0m\u001b[0;34m:\u001b[0m\u001b[0;34m\u001b[0m\u001b[0;34m\u001b[0m\u001b[0m\n\u001b[0;32m----> 6\u001b[0;31m             \u001b[0;32mreturn\u001b[0m \u001b[0mbench\u001b[0m\u001b[0;34m(\u001b[0m\u001b[0mfunction\u001b[0m\u001b[0;34m)\u001b[0m\u001b[0;34m\u001b[0m\u001b[0;34m\u001b[0m\u001b[0m\n\u001b[0m\u001b[1;32m      7\u001b[0m         \u001b[0;32mreturn\u001b[0m \u001b[0mwrapped\u001b[0m\u001b[0;34m\u001b[0m\u001b[0;34m\u001b[0m\u001b[0m\n\u001b[1;32m      8\u001b[0m     \u001b[0;32mreturn\u001b[0m \u001b[0mbenchmark_wrapper\u001b[0m\u001b[0;34m\u001b[0m\u001b[0;34m\u001b[0m\u001b[0m\n",
      "\u001b[0;32m/tmp/ipykernel_3621/3609578230.py\u001b[0m in \u001b[0;36mcombinations2\u001b[0;34m(combinations)\u001b[0m\n\u001b[1;32m      8\u001b[0m     \u001b[0;34m\"\"\"100 elements, length 3\"\"\"\u001b[0m\u001b[0;34m\u001b[0m\u001b[0;34m\u001b[0m\u001b[0m\n\u001b[1;32m      9\u001b[0m     \u001b[0;31m# _ = list(combinations(range(100), 3))\u001b[0m\u001b[0;34m\u001b[0m\u001b[0;34m\u001b[0m\u001b[0;34m\u001b[0m\u001b[0m\n\u001b[0;32m---> 10\u001b[0;31m     \u001b[0m_\u001b[0m \u001b[0;34m=\u001b[0m \u001b[0mlist\u001b[0m\u001b[0;34m(\u001b[0m\u001b[0mcombinations\u001b[0m\u001b[0;34m(\u001b[0m\u001b[0;34m\"a\"\u001b[0m \u001b[0;34m*\u001b[0m \u001b[0;36m100\u001b[0m\u001b[0;34m,\u001b[0m \u001b[0;36m3\u001b[0m\u001b[0;34m)\u001b[0m\u001b[0;34m)\u001b[0m\u001b[0;34m\u001b[0m\u001b[0;34m\u001b[0m\u001b[0m\n\u001b[0m\u001b[1;32m     11\u001b[0m \u001b[0;34m\u001b[0m\u001b[0m\n\u001b[1;32m     12\u001b[0m \u001b[0;34m@\u001b[0m\u001b[0mbenchmark\u001b[0m\u001b[0;34m\u001b[0m\u001b[0;34m\u001b[0m\u001b[0m\n",
      "\u001b[0;32m~/reading-circle-1/itertools/carlos.py\u001b[0m in \u001b[0;36mcombinations\u001b[0;34m(iterable, repeat)\u001b[0m\n\u001b[1;32m     36\u001b[0m         \u001b[0;32mif\u001b[0m \u001b[0mvalid\u001b[0m\u001b[0;34m:\u001b[0m\u001b[0;34m\u001b[0m\u001b[0;34m\u001b[0m\u001b[0m\n\u001b[1;32m     37\u001b[0m             \u001b[0mresult\u001b[0m \u001b[0;34m=\u001b[0m \u001b[0mtuple\u001b[0m\u001b[0;34m(\u001b[0m\u001b[0miterable\u001b[0m\u001b[0;34m[\u001b[0m\u001b[0mi\u001b[0m\u001b[0;34m]\u001b[0m \u001b[0;32mfor\u001b[0m \u001b[0mi\u001b[0m \u001b[0;32min\u001b[0m \u001b[0mindexes\u001b[0m\u001b[0;34m)\u001b[0m\u001b[0;34m\u001b[0m\u001b[0;34m\u001b[0m\u001b[0m\n\u001b[0;32m---> 38\u001b[0;31m             \u001b[0msorted_indexes\u001b[0m \u001b[0;34m=\u001b[0m \u001b[0mstr\u001b[0m\u001b[0;34m(\u001b[0m\u001b[0msorted\u001b[0m\u001b[0;34m(\u001b[0m\u001b[0mindexes\u001b[0m\u001b[0;34m)\u001b[0m\u001b[0;34m)\u001b[0m\u001b[0;34m\u001b[0m\u001b[0;34m\u001b[0m\u001b[0m\n\u001b[0m\u001b[1;32m     39\u001b[0m             \u001b[0;31m# has this combination already returned\u001b[0m\u001b[0;34m\u001b[0m\u001b[0;34m\u001b[0m\u001b[0;34m\u001b[0m\u001b[0m\n\u001b[1;32m     40\u001b[0m             \u001b[0;32mif\u001b[0m \u001b[0msorted_indexes\u001b[0m \u001b[0;32mnot\u001b[0m \u001b[0;32min\u001b[0m \u001b[0mcombinations\u001b[0m\u001b[0;34m:\u001b[0m\u001b[0;34m\u001b[0m\u001b[0;34m\u001b[0m\u001b[0m\n",
      "\u001b[0;31mKeyboardInterrupt\u001b[0m: "
     ]
    }
   ],
   "metadata": {}
  },
  {
   "cell_type": "code",
   "execution_count": 13,
   "source": [
    "plot(times, [], modules, \"combinations\")"
   ],
   "outputs": [
    {
     "output_type": "display_data",
     "data": {
      "image/png": "[encoded data removed]",
      "text/plain": [
       "<Figure size 1440x720 with 1 Axes>"
      ]
     },
     "metadata": {
      "needs_background": "light"
     }
    }
   ],
   "metadata": {}
  },
  {
   "cell_type": "markdown",
   "source": [
    "# Permutations"
   ],
   "metadata": {}
  },
  {
   "cell_type": "code",
   "execution_count": 14,
   "source": [
    "@benchmark\n",
    "def permutations1(permutations):\n",
    "    \"\"\"3 elements, length 2\"\"\"\n",
    "    _ = list(permutations(\"abc\", 2))\n",
    "\n",
    "@benchmark\n",
    "def permutations2(permutations):\n",
    "    \"\"\"100 elements, length 3\"\"\"\n",
    "    _ = list(permutations(range(100), 3))\n",
    "\n",
    "@benchmark\n",
    "def permutations3(permutations):\n",
    "    \"\"\"first of 10000 elements, length 5\"\"\"\n",
    "    _ = next(permutations(range(10000), 5))"
   ],
   "outputs": [],
   "metadata": {}
  },
  {
   "cell_type": "code",
   "execution_count": 15,
   "source": [
    "runs = 10\n",
    "\n",
    "benchmarks = [\n",
    "    permutations1,\n",
    "    permutations2,\n",
    "    permutations3,\n",
    "]\n",
    "\n",
    "modules = all_modules"
   ],
   "outputs": [],
   "metadata": {}
  },
  {
   "cell_type": "code",
   "execution_count": 16,
   "source": [
    "times = time_benchmarks(benchmarks, modules, \"permutations\", runs)"
   ],
   "outputs": [
    {
     "output_type": "stream",
     "name": "stdout",
     "text": [
      "Running benchmark [3 elements, length 2]\n",
      "-- Running benchmarks for itertools ..........\n",
      "-- Running benchmarks for carlos ..........\n",
      "-- Running benchmarks for mitertools ..........\n",
      "-- Running benchmarks for carlos_rec ..........\n",
      "-- Running benchmarks for mitertools_rec ..........\n",
      "Running benchmark [100 elements, length 3]\n",
      "-- Running benchmarks for itertools ..........\n",
      "-- Running benchmarks for carlos ..........\n",
      "-- Running benchmarks for mitertools ..........\n",
      "-- Running benchmarks for carlos_rec unsupported operand type(s) for +: 'range' and 'range'\n",
      "-- Running benchmarks for mitertools_rec ..........\n",
      "Running benchmark [first of 10000 elements, length 5]\n",
      "-- Running benchmarks for itertools ..........\n",
      "-- Running benchmarks for carlos TIMEOUT!\n",
      "-- Running benchmarks for mitertools ..........\n",
      "-- Running benchmarks for carlos_rec unsupported operand type(s) for +: 'range' and 'range'\n",
      "-- Running benchmarks for mitertools_rec ..........\n"
     ]
    }
   ],
   "metadata": {}
  },
  {
   "cell_type": "code",
   "execution_count": 17,
   "source": [
    "plot(times, [], modules, \"permutations\")"
   ],
   "outputs": [
    {
     "output_type": "display_data",
     "data": {
      "image/png": "[encoded data removed]",
      "text/plain": [
       "<Figure size 1440x720 with 1 Axes>"
      ]
     },
     "metadata": {
      "needs_background": "light"
     }
    }
   ],
   "metadata": {}
  },
  {
   "cell_type": "markdown",
   "source": [
    "# Product"
   ],
   "metadata": {}
  },
  {
   "cell_type": "code",
   "execution_count": 18,
   "source": [
    "@benchmark\n",
    "def product1(product):\n",
    "    \"\"\"product of 2 iterables\"\"\"\n",
    "    _ = list(product([1, 2], \"ab\"))\n",
    "\n",
    "@benchmark\n",
    "def product2(product):\n",
    "    \"\"\"product of 4 iterables\"\"\"\n",
    "    _ = list(product([1, 2], [\"a\", \"b\"], [True, False], [None, None, None]))\n",
    "\n",
    "@benchmark\n",
    "def product3(product):\n",
    "    \"\"\"2 iterables with repeat=4\"\"\"\n",
    "    _ = list(product(\"ab\", \"cd\", repeat=4))\n",
    "\n",
    "@benchmark\n",
    "def product4(product):\n",
    "    \"\"\"product of 2 big iterables\"\"\"\n",
    "    _ = list(product(range(10000), range(1000)))\n",
    "\n",
    "@benchmark\n",
    "def product5(product):\n",
    "    \"\"\"First 100 elements of very big iterables\"\"\"\n",
    "    for _ in range(100):\n",
    "        next(product(range(1000000000), range(1000000000)))\n",
    "\n",
    "@benchmark\n",
    "def product6(product):\n",
    "    \"\"\"3 elements, length 2\"\"\"\n",
    "    _ = list(product(\"abc\", repeat=2))\n",
    "\n",
    "@benchmark\n",
    "def product7(product):\n",
    "    \"\"\"100 elements, length 3\"\"\"\n",
    "    _ = list(product(range(100), repeat=3))\n",
    "\n",
    "@benchmark\n",
    "def product8(product):\n",
    "    \"\"\"first of 10000 elements, length 5\"\"\"\n",
    "    _ = next(product(range(10000), repeat=5))\n",
    "\n"
   ],
   "outputs": [],
   "metadata": {}
  },
  {
   "cell_type": "code",
   "execution_count": 19,
   "source": [
    "runs = 10\n",
    "\n",
    "benchmarks = [\n",
    "    # product1,\n",
    "    # product2,\n",
    "    # product3,\n",
    "    # product4,\n",
    "    # product5,\n",
    "    product6,\n",
    "    product7,\n",
    "    product8,\n",
    "]\n",
    "\n",
    "modules = all_modules"
   ],
   "outputs": [],
   "metadata": {}
  },
  {
   "cell_type": "code",
   "execution_count": 20,
   "source": [
    "times = time_benchmarks(benchmarks, modules, \"product\", runs)"
   ],
   "outputs": [
    {
     "output_type": "stream",
     "name": "stdout",
     "text": [
      "Running benchmark [3 elements, length 2]\n",
      "-- Running benchmarks for itertools ..........\n",
      "-- Running benchmarks for carlos ..........\n",
      "-- Running benchmarks for mitertools ..........\n",
      "-- Running benchmarks for carlos_rec ..........\n",
      "-- Running benchmarks for mitertools_rec ..........\n",
      "Running benchmark [100 elements, length 3]\n",
      "-- Running benchmarks for itertools ..........\n",
      "-- Running benchmarks for carlos ..........\n",
      "-- Running benchmarks for mitertools ..........\n",
      "-- Running benchmarks for carlos_rec ..........\n",
      "-- Running benchmarks for mitertools_rec ..........\n",
      "Running benchmark [first of 10000 elements, length 5]\n",
      "-- Running benchmarks for itertools ..........\n",
      "-- Running benchmarks for carlos ..........\n",
      "-- Running benchmarks for mitertools ..........\n",
      "-- Running benchmarks for carlos_rec TIMEOUT!\n",
      "-- Running benchmarks for mitertools_rec ..........\n"
     ]
    }
   ],
   "metadata": {}
  },
  {
   "cell_type": "code",
   "execution_count": 21,
   "source": [
    "plot(times, [], modules, \"product\")"
   ],
   "outputs": [
    {
     "output_type": "display_data",
     "data": {
      "image/png": "[encoded data removed]",
      "text/plain": [
       "<Figure size 1440x720 with 1 Axes>"
      ]
     },
     "metadata": {
      "needs_background": "light"
     }
    }
   ],
   "metadata": {}
  },
  {
   "cell_type": "code",
   "execution_count": 45,
   "source": [
    "%timeit carlos.product(\"abc\", repeat=2)"
   ],
   "outputs": [
    {
     "output_type": "stream",
     "name": "stdout",
     "text": [
      "318 ns ± 6 ns per loop (mean ± std. dev. of 7 runs, 1000000 loops each)\n"
     ]
    }
   ],
   "metadata": {}
  },
  {
   "cell_type": "code",
   "execution_count": 46,
   "source": [
    "%timeit carlos.product123123(\"abc\", repeat=2)"
   ],
   "outputs": [
    {
     "output_type": "stream",
     "name": "stdout",
     "text": [
      "321 ns ± 12 ns per loop (mean ± std. dev. of 7 runs, 1000000 loops each)\n"
     ]
    }
   ],
   "metadata": {}
  },
  {
   "cell_type": "code",
   "execution_count": 57,
   "source": [
    "%%prun -T prun0\n",
    "for _ in range(1000000):\n",
    "    carlos.product123123(\"abc\", repeat=2)"
   ],
   "outputs": [
    {
     "output_type": "stream",
     "name": "stdout",
     "text": [
      " \n",
      "*** Profile printout saved to text file 'prun0'. \n"
     ]
    },
    {
     "output_type": "stream",
     "name": "stdout",
     "text": [
      "         1000003 function calls in 0.520 seconds\n",
      "\n",
      "   Ordered by: internal time\n",
      "\n",
      "   ncalls  tottime  percall  cumtime  percall filename:lineno(function)\n",
      "        1    0.423    0.423    0.520    0.520 <string>:1(<module>)\n",
      "  1000000    0.097    0.000    0.097    0.000 carlos.py:18(product123123)\n",
      "        1    0.000    0.000    0.520    0.520 {built-in method builtins.exec}\n",
      "        1    0.000    0.000    0.000    0.000 {method 'disable' of '_lsprof.Profiler' objects}"
     ]
    }
   ],
   "metadata": {}
  }
 ],
 "metadata": {
  "orig_nbformat": 4,
  "language_info": {
   "name": "python",
   "version": "3.9.6",
   "mimetype": "text/x-python",
   "codemirror_mode": {
    "name": "ipython",
    "version": 3
   },
   "pygments_lexer": "ipython3",
   "nbconvert_exporter": "python",
   "file_extension": ".py"
  },
  "kernelspec": {
   "name": "python3",
   "display_name": "Python 3.9.6 64-bit ('reading-circle-1-TuAApDv8': venv)"
  },
  "interpreter": {
   "hash": "5b04233413634fdd3134638a8eea6e6c8d649ad13e9485d39b9c2bac2e9d61f8"
  }
 },
 "nbformat": 4,
 "nbformat_minor": 2
}